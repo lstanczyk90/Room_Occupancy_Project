{
 "cells": [
  {
   "cell_type": "code",
   "execution_count": 1,
   "id": "09a88133",
   "metadata": {},
   "outputs": [],
   "source": [
    "from path import Path\n",
    "import pandas as pd\n",
    "from sklearn.ensemble import RandomForestClassifier\n",
    "from sklearn.preprocessing import StandardScaler\n",
    "from sklearn.model_selection import train_test_split\n",
    "from sklearn.metrics import confusion_matrix, accuracy_score, classification_report\n",
    "from matplotlib import pyplot as plt\n",
    "import numpy as np\n",
    "from sqlalchemy import create_engine"
   ]
  },
  {
   "cell_type": "markdown",
   "id": "fda8a54b",
   "metadata": {},
   "source": [
    "## Import Data from Database"
   ]
  },
  {
   "cell_type": "code",
   "execution_count": 2,
   "id": "6da076dc",
   "metadata": {},
   "outputs": [],
   "source": [
    "#change room occupancy count to occupancy in Data 1\n",
    "\n",
    "con = create_engine(\"sqlite:///sensor-telemetry.sqlite\")\n",
    "\n",
    "kukuroo_df = pd.read_sql('select * from kukuroo', con, index_col=\"index\")\n",
    "ananth_df = pd.read_sql('select * from ananth', con, index_col=\"index\")"
   ]
  },
  {
   "cell_type": "markdown",
   "id": "c0a39ee4",
   "metadata": {},
   "source": [
    "## Create function to perform Random Forest Analysis"
   ]
  },
  {
   "cell_type": "code",
   "execution_count": 3,
   "id": "a42689ac",
   "metadata": {},
   "outputs": [
    {
     "data": {
      "text/plain": [
       "Index(['S1_Temp', 'S2_Temp', 'S3_Temp', 'S4_Temp', 'S1_Light', 'S2_Light',\n",
       "       'S3_Light', 'S4_Light', 'S1_Sound', 'S2_Sound', 'S3_Sound', 'S4_Sound',\n",
       "       'S5_CO2', 'S5_CO2_Slope', 'S6_PIR', 'S7_PIR', 'Occupancy', 'timestamp'],\n",
       "      dtype='object')"
      ]
     },
     "execution_count": 3,
     "metadata": {},
     "output_type": "execute_result"
    }
   ],
   "source": [
    "ananth_df.columns"
   ]
  },
  {
   "cell_type": "code",
   "execution_count": 4,
   "id": "7d8eccaf",
   "metadata": {},
   "outputs": [
    {
     "data": {
      "text/plain": [
       "Index(['Temperature', 'Humidity', 'Light', 'CO2', 'HumidityRatio', 'Occupancy',\n",
       "       'timestamp'],\n",
       "      dtype='object')"
      ]
     },
     "execution_count": 4,
     "metadata": {},
     "output_type": "execute_result"
    }
   ],
   "source": [
    "kukuroo_df.columns"
   ]
  },
  {
   "cell_type": "code",
   "execution_count": 5,
   "id": "2cc45a50",
   "metadata": {},
   "outputs": [],
   "source": [
    "ananth_df_no_light=ananth_df.drop([ \"S1_Light\", \"S2_Light\", \"S3_Light\", \"S4_Light\"], axis=1)"
   ]
  },
  {
   "cell_type": "code",
   "execution_count": 7,
   "id": "94b6267a",
   "metadata": {},
   "outputs": [],
   "source": [
    "kukuroo_df_no_light=kukuroo_df.drop([\"Light\"], axis=1)"
   ]
  },
  {
   "cell_type": "code",
   "execution_count": 8,
   "id": "0dd04231",
   "metadata": {},
   "outputs": [],
   "source": [
    "# Create Function to Automate Random Forest Model\n",
    "\n",
    "def occupancy_forest(df):\n",
    "    \n",
    "    # Remove Timestamp from Dataset\n",
    "    df_clean = df.drop(\"timestamp\", axis=1)\n",
    "    \n",
    "    # Define Features Set\n",
    "    X = df_clean.copy()\n",
    "    X = X.drop(\"Occupancy\", axis=1)\n",
    "    \n",
    "    # Define the Target Vector\n",
    "    y = df_clean[\"Occupancy\"].values.ravel()\n",
    "    \n",
    "    # Splitting into Train and Test sets\n",
    "    X_train, X_test, y_train, y_test = train_test_split(X, y, random_state=78)\n",
    "    \n",
    "    # Creating StandardScaler instance\n",
    "    scaler = StandardScaler()\n",
    "    \n",
    "    # Fitting Standard Scaller\n",
    "    X_scaler = scaler.fit(X_train)\n",
    "    \n",
    "    # Scaling data\n",
    "    X_train_scaled = X_scaler.transform(X_train)\n",
    "    X_test_scaled = X_scaler.transform(X_test)\n",
    "    \n",
    "    # Creating the decision tree classifier instance\n",
    "    rf_model = RandomForestClassifier(n_estimators=128, random_state=78)\n",
    "    \n",
    "    # Fitting the model\n",
    "    rf_model = rf_model.fit(X_train_scaled, y_train)\n",
    "    \n",
    "    # Making predictions using the testing data\n",
    "    predictions = rf_model.predict(X_test_scaled)\n",
    "    \n",
    "    # Calculating the confusion matrix\n",
    "    cm = confusion_matrix(y_test, predictions)\n",
    "    cm_df = pd.DataFrame(cm, index=[\"Actual 0\", \"Actual 1\"], columns=[\"Predicted 0\", \"Predicted 1\"])\n",
    "    \n",
    "    # Calculating the accuracy score\n",
    "    acc_score = accuracy_score(y_test, predictions)\n",
    "    \n",
    "    # Displaying results\n",
    "    print(\"Confusion Matrix\")\n",
    "    display(cm_df)\n",
    "    print(f\"Accuracy Score : {acc_score}\")\n",
    "    print(\"Classification Report\")\n",
    "    print(classification_report(y_test, predictions))\n",
    "    \n",
    "    # Determine rf_model feature importances\n",
    "    feature_names = X.columns\n",
    "    importances = rf_model.feature_importances_\n",
    "    forest_importances = pd.Series(importances, index=feature_names)\n",
    "    forest_importances.sort_values(ascending=False,inplace=True)\n",
    "    fig, ax = plt.subplots()\n",
    "    forest_importances.plot.bar(ax=ax)\n",
    "    ax.set_title(\"Feature importances using MDI\")\n",
    "    ax.set_ylabel(\"Mean decrease in impurity\")\n",
    "    fig.tight_layout()"
   ]
  },
  {
   "cell_type": "code",
   "execution_count": 9,
   "id": "c1bfcc42",
   "metadata": {
    "scrolled": false
   },
   "outputs": [
    {
     "name": "stdout",
     "output_type": "stream",
     "text": [
      "Confusion Matrix\n"
     ]
    },
    {
     "data": {
      "text/html": [
       "<div>\n",
       "<style scoped>\n",
       "    .dataframe tbody tr th:only-of-type {\n",
       "        vertical-align: middle;\n",
       "    }\n",
       "\n",
       "    .dataframe tbody tr th {\n",
       "        vertical-align: top;\n",
       "    }\n",
       "\n",
       "    .dataframe thead th {\n",
       "        text-align: right;\n",
       "    }\n",
       "</style>\n",
       "<table border=\"1\" class=\"dataframe\">\n",
       "  <thead>\n",
       "    <tr style=\"text-align: right;\">\n",
       "      <th></th>\n",
       "      <th>Predicted 0</th>\n",
       "      <th>Predicted 1</th>\n",
       "    </tr>\n",
       "  </thead>\n",
       "  <tbody>\n",
       "    <tr>\n",
       "      <th>Actual 0</th>\n",
       "      <td>3910</td>\n",
       "      <td>37</td>\n",
       "    </tr>\n",
       "    <tr>\n",
       "      <th>Actual 1</th>\n",
       "      <td>44</td>\n",
       "      <td>1149</td>\n",
       "    </tr>\n",
       "  </tbody>\n",
       "</table>\n",
       "</div>"
      ],
      "text/plain": [
       "          Predicted 0  Predicted 1\n",
       "Actual 0         3910           37\n",
       "Actual 1           44         1149"
      ]
     },
     "metadata": {},
     "output_type": "display_data"
    },
    {
     "name": "stdout",
     "output_type": "stream",
     "text": [
      "Accuracy Score : 0.9842412451361867\n",
      "Classification Report\n",
      "              precision    recall  f1-score   support\n",
      "\n",
      "           0       0.99      0.99      0.99      3947\n",
      "           1       0.97      0.96      0.97      1193\n",
      "\n",
      "    accuracy                           0.98      5140\n",
      "   macro avg       0.98      0.98      0.98      5140\n",
      "weighted avg       0.98      0.98      0.98      5140\n",
      "\n"
     ]
    },
    {
     "data": {
      "image/png": "[encoded data removed]",
      "text/plain": [
       "<Figure size 432x288 with 1 Axes>"
      ]
     },
     "metadata": {
      "needs_background": "light"
     },
     "output_type": "display_data"
    }
   ],
   "source": [
    "occupancy_forest(kukuroo_df_no_light)"
   ]
  },
  {
   "cell_type": "code",
   "execution_count": 10,
   "id": "aa324c56",
   "metadata": {
    "scrolled": true
   },
   "outputs": [
    {
     "name": "stdout",
     "output_type": "stream",
     "text": [
      "Confusion Matrix\n"
     ]
    },
    {
     "data": {
      "text/html": [
       "<div>\n",
       "<style scoped>\n",
       "    .dataframe tbody tr th:only-of-type {\n",
       "        vertical-align: middle;\n",
       "    }\n",
       "\n",
       "    .dataframe tbody tr th {\n",
       "        vertical-align: top;\n",
       "    }\n",
       "\n",
       "    .dataframe thead th {\n",
       "        text-align: right;\n",
       "    }\n",
       "</style>\n",
       "<table border=\"1\" class=\"dataframe\">\n",
       "  <thead>\n",
       "    <tr style=\"text-align: right;\">\n",
       "      <th></th>\n",
       "      <th>Predicted 0</th>\n",
       "      <th>Predicted 1</th>\n",
       "    </tr>\n",
       "  </thead>\n",
       "  <tbody>\n",
       "    <tr>\n",
       "      <th>Actual 0</th>\n",
       "      <td>2019</td>\n",
       "      <td>4</td>\n",
       "    </tr>\n",
       "    <tr>\n",
       "      <th>Actual 1</th>\n",
       "      <td>3</td>\n",
       "      <td>507</td>\n",
       "    </tr>\n",
       "  </tbody>\n",
       "</table>\n",
       "</div>"
      ],
      "text/plain": [
       "          Predicted 0  Predicted 1\n",
       "Actual 0         2019            4\n",
       "Actual 1            3          507"
      ]
     },
     "metadata": {},
     "output_type": "display_data"
    },
    {
     "name": "stdout",
     "output_type": "stream",
     "text": [
      "Accuracy Score : 0.9972364784840111\n",
      "Classification Report\n",
      "              precision    recall  f1-score   support\n",
      "\n",
      "           0       1.00      1.00      1.00      2023\n",
      "           1       0.99      0.99      0.99       510\n",
      "\n",
      "    accuracy                           1.00      2533\n",
      "   macro avg       1.00      1.00      1.00      2533\n",
      "weighted avg       1.00      1.00      1.00      2533\n",
      "\n"
     ]
    },
    {
     "data": {
      "image/png": "[encoded data removed]",
      "text/plain": [
       "<Figure size 432x288 with 1 Axes>"
      ]
     },
     "metadata": {
      "needs_background": "light"
     },
     "output_type": "display_data"
    }
   ],
   "source": [
    "occupancy_forest(ananth_df_no_light)"
   ]
  },
  {
   "cell_type": "code",
   "execution_count": null,
   "id": "6b563c32",
   "metadata": {},
   "outputs": [],
   "source": []
  },
  {
   "cell_type": "code",
   "execution_count": null,
   "id": "66d8464d",
   "metadata": {},
   "outputs": [],
   "source": []
  },
  {
   "cell_type": "code",
   "execution_count": null,
   "id": "e986a71c",
   "metadata": {},
   "outputs": [],
   "source": []
  }
 ],
 "metadata": {
  "kernelspec": {
   "display_name": "Python 3",
   "language": "python",
   "name": "python3"
  },
  "language_info": {
   "codemirror_mode": {
    "name": "ipython",
    "version": 3
   },
   "file_extension": ".py",
   "mimetype": "text/x-python",
   "name": "python",
   "nbconvert_exporter": "python",
   "pygments_lexer": "ipython3",
   "version": "3.8.8"
  }
 },
 "nbformat": 4,
 "nbformat_minor": 5
}
